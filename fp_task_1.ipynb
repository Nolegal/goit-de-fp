{
  "nbformat": 4,
  "nbformat_minor": 0,
  "metadata": {
    "colab": {
      "provenance": []
    },
    "kernelspec": {
      "name": "python3",
      "display_name": "Python 3"
    },
    "language_info": {
      "name": "python"
    }
  },
  "cells": [
    {
      "cell_type": "code",
      "execution_count": 1,
      "metadata": {
        "id": "HR6l5As3vxsS"
      },
      "outputs": [],
      "source": [
        "!"
      ]
    },
    {
      "cell_type": "code",
      "source": [
        "!spark-submit --version"
      ],
      "metadata": {
        "colab": {
          "base_uri": "https://localhost:8080/"
        },
        "id": "Rb3cqbgRv1Pg",
        "outputId": "a7624f09-f693-462b-dd5b-d8c601e17768"
      },
      "execution_count": 2,
      "outputs": [
        {
          "output_type": "stream",
          "name": "stdout",
          "text": [
            "Welcome to\n",
            "      ____              __\n",
            "     / __/__  ___ _____/ /__\n",
            "    _\\ \\/ _ \\/ _ `/ __/  '_/\n",
            "   /___/ .__/\\_,_/_/ /_/\\_\\   version 3.5.1\n",
            "      /_/\n",
            "                        \n",
            "Using Scala version 2.12.18, OpenJDK 64-Bit Server VM, 11.0.27\n",
            "Branch HEAD\n",
            "Compiled by user heartsavior on 2024-02-15T11:24:58Z\n",
            "Revision fd86f85e181fc2dc0f50a096855acf83a6cc5d9c\n",
            "Url https://github.com/apache/spark\n",
            "Type --help for more information.\n"
          ]
        }
      ]
    },
    {
      "cell_type": "code",
      "source": [
        "import os\n",
        "import requests\n",
        "from pathlib import Path\n",
        "from pyspark.sql import SparkSession\n",
        "from pyspark.sql.functions import col, avg, current_timestamp, from_json, to_json, struct\n",
        "from pyspark.sql.types import StructType, StructField, StringType, IntegerType\n",
        "# from configs import kafka_config"
      ],
      "metadata": {
        "id": "5pLuV7odv7qX"
      },
      "execution_count": 3,
      "outputs": []
    },
    {
      "cell_type": "code",
      "source": [
        "# 📌 Налаштування MySQL\n",
        "MYSQL_URL = \"jdbc:mysql://217.61.57.46:3306/olympic_dataset\"\n",
        "MYSQL_PROPERTIES = {\n",
        "    \"user\": \"neo_data_admin\",\n",
        "    \"password\": \"Proyahaxuqithab9oplp\",\n",
        "    \"driver\": \"com.mysql.cj.jdbc.Driver\"\n",
        "}\n",
        "\n",
        "kafka_config = {\n",
        "    \"bootstrap_servers\": ['77.81.230.104:9092'],\n",
        "    \"username\": 'admin',\n",
        "    \"password\": 'VawEzo1ikLtrA8Ug8THa',\n",
        "    \"security_protocol\": 'SASL_PLAINTEXT',\n",
        "    \"sasl_mechanism\": 'PLAIN'\n",
        "}"
      ],
      "metadata": {
        "id": "yfktcNL2wArX"
      },
      "execution_count": 4,
      "outputs": []
    },
    {
      "cell_type": "code",
      "source": [
        "# 📌 Налаштування Kafka\n",
        "KAFKA_BOOTSTRAP_SERVERS = kafka_config[\"bootstrap_servers\"][0]\n",
        "KAFKA_TOPIC_INPUT = \"alex_athlete_topic_input\"\n",
        "KAFKA_TOPIC_OUTPUT = \"alex_athlete_topic_output\""
      ],
      "metadata": {
        "id": "SUxuw_PrwIie"
      },
      "execution_count": 5,
      "outputs": []
    },
    {
      "cell_type": "code",
      "source": [
        "# Використовуємо Maven coordinates - Spark автоматично завантажить всі необхідні залежності\n",
        "print(\"📦 Spark автоматично завантажить MySQL та Kafka connectors...\")\n",
        "\n",
        "# 📌 Ініціалізація Spark (використовуємо Maven coordinates для автоматичного завантаження)\n",
        "spark = SparkSession.builder \\\n",
        "    .appName(\"Final_project\") \\\n",
        "    .config(\"spark.jars.packages\", \"mysql:mysql-connector-java:8.0.33,org.apache.spark:spark-sql-kafka-0-10_2.12:3.5.4\") \\\n",
        "    .config(\"spark.sql.shuffle.partitions\", \"4\") \\\n",
        "    .config(\"spark.streaming.backpressure.enabled\", \"true\") \\\n",
        "    .config(\"spark.sql.session.timeZone\", \"UTC\") \\\n",
        "    .getOrCreate()\n",
        "\n",
        "print(\"✅ Spark Session ініціалізовано успішно!\")"
      ],
      "metadata": {
        "colab": {
          "base_uri": "https://localhost:8080/"
        },
        "id": "3t54EIALwNLv",
        "outputId": "2584bee2-6d34-44ea-b6a0-5b166b637236"
      },
      "execution_count": 6,
      "outputs": [
        {
          "output_type": "stream",
          "name": "stdout",
          "text": [
            "📦 Spark автоматично завантажить MySQL та Kafka connectors...\n",
            "✅ Spark Session ініціалізовано успішно!\n"
          ]
        }
      ]
    },
    {
      "cell_type": "code",
      "source": [
        "# 1️⃣ Читання біографічних даних атлетів\n",
        "print(\"📖 Читання біографічних даних атлетів...\")\n",
        "athlete_bio_df = spark.read.format(\"jdbc\").options(\n",
        "    url=MYSQL_URL,\n",
        "    driver=\"com.mysql.cj.jdbc.Driver\",\n",
        "    dbtable=\"olympic_dataset.athlete_bio\",\n",
        "    user=MYSQL_PROPERTIES[\"user\"],\n",
        "    password=MYSQL_PROPERTIES[\"password\"]\n",
        ").load()\n"
      ],
      "metadata": {
        "colab": {
          "base_uri": "https://localhost:8080/"
        },
        "id": "mvQxGwY3waxu",
        "outputId": "32f6c85b-b544-4678-9b5d-c04aebd18db4"
      },
      "execution_count": 7,
      "outputs": [
        {
          "output_type": "stream",
          "name": "stdout",
          "text": [
            "📖 Читання біографічних даних атлетів...\n"
          ]
        }
      ]
    },
    {
      "cell_type": "code",
      "source": [
        "# 2️⃣ Фільтрація некоректних значень\n",
        "print(\"🧹 Фільтрація некоректних значень...\")\n",
        "athlete_bio_cleaned_df = athlete_bio_df.filter(\n",
        "    (col(\"height\").isNotNull()) & (col(\"weight\").isNotNull()) &\n",
        "    (col(\"height\").cast(\"double\").isNotNull()) & (col(\"weight\").cast(\"double\").isNotNull())\n",
        ")"
      ],
      "metadata": {
        "colab": {
          "base_uri": "https://localhost:8080/"
        },
        "id": "PY-r-LFVweve",
        "outputId": "ccf79826-a2ed-4f15-d6a2-304ebd3938c1"
      },
      "execution_count": 8,
      "outputs": [
        {
          "output_type": "stream",
          "name": "stdout",
          "text": [
            "🧹 Фільтрація некоректних значень...\n"
          ]
        }
      ]
    },
    {
      "cell_type": "code",
      "source": [
        "\n",
        "# 3️⃣ Читання та запис результатів змагань у Kafka\n",
        "print(\"📤 Відправка даних у Kafka...\")\n",
        "event_results_df = spark.read.format(\"jdbc\").options(\n",
        "    url=MYSQL_URL,\n",
        "    driver=\"com.mysql.cj.jdbc.Driver\",\n",
        "    dbtable=\"olympic_dataset.athlete_event_results\",\n",
        "    user=MYSQL_PROPERTIES[\"user\"],\n",
        "    password=MYSQL_PROPERTIES[\"password\"]\n",
        ").load()\n",
        "\n",
        "try:\n",
        "    event_results_df.selectExpr(\"CAST(athlete_id AS STRING) as key\", \"to_json(struct(*)) AS value\") \\\n",
        "        .write.format(\"kafka\") \\\n",
        "        .option(\"kafka.bootstrap.servers\", KAFKA_BOOTSTRAP_SERVERS) \\\n",
        "        .option(\"topic\", KAFKA_TOPIC_INPUT) \\\n",
        "        .option(\"kafka.security.protocol\", kafka_config[\"security_protocol\"]) \\\n",
        "        .option(\"kafka.sasl.mechanism\", kafka_config[\"sasl_mechanism\"]) \\\n",
        "        .option(\"kafka.sasl.jaas.config\",\n",
        "                f'org.apache.kafka.common.security.plain.PlainLoginModule required username=\"{kafka_config[\"username\"]}\" '\n",
        "                f'password=\"{kafka_config[\"password\"]}\";') \\\n",
        "        .save()\n",
        "    print(\"✅ Дані успішно відправлено у Kafka!\")\n",
        "except Exception as e:\n",
        "    print(f\"❌ Помилка відправки у Kafka: {e}\")\n",
        "    # Continue with streaming part even if batch write fails\n",
        "\n",
        "# 📌 Читання з Kafka (потоково)\n",
        "print(\"📥 Налаштування потокового читання з Kafka...\")\n",
        "schema = StructType([\n",
        "    StructField(\"edition\", StringType(), True),\n",
        "    StructField(\"edition_id\", StringType(), True),\n",
        "    StructField(\"country_noc\", StringType(), True),\n",
        "    StructField(\"sport\", StringType(), True),\n",
        "    StructField(\"event\", StringType(), True),\n",
        "    StructField(\"result_id\", StringType(), True),\n",
        "    StructField(\"athlete\", StringType(), True),\n",
        "    StructField(\"athlete_id\", StringType(), True),\n",
        "    StructField(\"pos\", StringType(), True),\n",
        "    StructField(\"medal\", StringType(), True),\n",
        "    StructField(\"isTeamSport\", StringType(), True)\n",
        "])"
      ],
      "metadata": {
        "colab": {
          "base_uri": "https://localhost:8080/"
        },
        "id": "MCjregxzwqlm",
        "outputId": "de6f0b0e-40c2-4e30-f53c-e7cc41bf5f6b"
      },
      "execution_count": 9,
      "outputs": [
        {
          "output_type": "stream",
          "name": "stdout",
          "text": [
            "📤 Відправка даних у Kafka...\n",
            "✅ Дані успішно відправлено у Kafka!\n",
            "📥 Налаштування потокового читання з Kafka...\n"
          ]
        }
      ]
    },
    {
      "cell_type": "code",
      "source": [
        "kafka_stream_df = spark.readStream.format(\"kafka\") \\\n",
        "    .option(\"kafka.bootstrap.servers\", KAFKA_BOOTSTRAP_SERVERS) \\\n",
        "    .option(\"subscribe\", KAFKA_TOPIC_INPUT) \\\n",
        "    .option(\"kafka.security.protocol\", kafka_config[\"security_protocol\"]) \\\n",
        "    .option(\"kafka.sasl.mechanism\", kafka_config[\"sasl_mechanism\"]) \\\n",
        "    .option(\"kafka.sasl.jaas.config\",\n",
        "            f'org.apache.kafka.common.security.plain.PlainLoginModule required username=\"{kafka_config[\"username\"]}\" '\n",
        "            f'password=\"{kafka_config[\"password\"]}\";') \\\n",
        "    .option(\"startingOffsets\", \"earliest\") \\\n",
        "    .option(\"maxOffsetsPerTrigger\", \"500\") \\\n",
        "    .load()\n",
        "\n",
        "kafka_json_df = kafka_stream_df.selectExpr(\"CAST(value AS STRING)\").select(from_json(\"value\", schema).alias(\"data\")).select(\"data.*\")"
      ],
      "metadata": {
        "id": "4Blm9UHCwtcm"
      },
      "execution_count": 15,
      "outputs": []
    },
    {
      "cell_type": "code",
      "source": [
        "# 4️⃣ Об'єднання з біографічними даними\n",
        "print(\"🔗 Об'єднання потокових даних з біографічними даними...\")\n",
        "\n",
        "# Rename columns in athlete_bio to avoid conflicts\n",
        "athlete_bio_renamed_df = athlete_bio_cleaned_df.select(\n",
        "    col(\"athlete_id\").alias(\"bio_athlete_id\"),\n",
        "    col(\"name\").alias(\"athlete_name\"),\n",
        "    col(\"sex\"),\n",
        "    col(\"born\"),\n",
        "    col(\"height\"),\n",
        "    col(\"weight\"),\n",
        "    col(\"country\").alias(\"bio_country\"),\n",
        "    col(\"country_noc\").alias(\"bio_country_noc\"),\n",
        "    col(\"description\").alias(\"bio_description\"),\n",
        "    col(\"special_notes\").alias(\"bio_special_notes\")\n",
        ")"
      ],
      "metadata": {
        "colab": {
          "base_uri": "https://localhost:8080/"
        },
        "id": "xd4AQrBcw3P9",
        "outputId": "12f1f722-e02d-445f-e7c6-0a3738dd7b9f"
      },
      "execution_count": 16,
      "outputs": [
        {
          "output_type": "stream",
          "name": "stdout",
          "text": [
            "🔗 Об'єднання потокових даних з біографічними даними...\n"
          ]
        }
      ]
    },
    {
      "cell_type": "code",
      "source": [
        "# Join using explicit column references\n",
        "joined_stream_df = kafka_json_df.join(\n",
        "    athlete_bio_renamed_df,\n",
        "    kafka_json_df.athlete_id == athlete_bio_renamed_df.bio_athlete_id,\n",
        "    how=\"inner\"\n",
        ").drop(\"bio_athlete_id\")  # Remove duplicate athlete_id column\n"
      ],
      "metadata": {
        "id": "jJGCvqqlxBNm"
      },
      "execution_count": 17,
      "outputs": []
    },
    {
      "cell_type": "code",
      "source": [
        "# 5️⃣ Агрегація за видом спорту, медаллю, статтю, країною\n",
        "print(\"📊 Налаштування агрегації...\")\n",
        "# Use the country_noc from Kafka data (event results) for grouping\n",
        "aggregated_stream_df = joined_stream_df.groupBy(\"sport\", \"medal\", \"sex\", \"country_noc\").agg(\n",
        "    avg(\"height\").alias(\"avg_height\"),\n",
        "    avg(\"weight\").alias(\"avg_weight\"),\n",
        "    current_timestamp().alias(\"timestamp\")\n",
        ")\n"
      ],
      "metadata": {
        "colab": {
          "base_uri": "https://localhost:8080/"
        },
        "id": "MndcWGtOxFxN",
        "outputId": "edffcae7-ed6a-4a8f-e3db-c636ce3bf7b2"
      },
      "execution_count": 18,
      "outputs": [
        {
          "output_type": "stream",
          "name": "stdout",
          "text": [
            "📊 Налаштування агрегації...\n"
          ]
        }
      ]
    },
    {
      "cell_type": "code",
      "source": [
        "# ✅ Функція запису у Kafka та MySQL\n",
        "def foreach_batch_function(batch_df, batch_id):\n",
        "    print(f\"📝 Обробка batch {batch_id}...\")\n",
        "    batch_count = batch_df.count()\n",
        "    print(f\"📊 Batch {batch_id} містить {batch_count} записів\")\n",
        "\n",
        "    if batch_count > 0:\n",
        "        # Show sample data for debugging\n",
        "        print(f\"🔍 Приклад даних з batch {batch_id}:\")\n",
        "        # batch_df.show(5, truncate=False)\n",
        "\n",
        "        try:\n",
        "            # Запис у Kafka\n",
        "            batch_df.selectExpr(\"to_json(struct(*)) AS value\") \\\n",
        "                .write.format(\"kafka\") \\\n",
        "                .option(\"kafka.bootstrap.servers\", KAFKA_BOOTSTRAP_SERVERS) \\\n",
        "                .option(\"topic\", KAFKA_TOPIC_OUTPUT) \\\n",
        "                .option(\"kafka.security.protocol\", kafka_config[\"security_protocol\"]) \\\n",
        "                .option(\"kafka.sasl.mechanism\", kafka_config[\"sasl_mechanism\"]) \\\n",
        "                .option(\"kafka.sasl.jaas.config\",\n",
        "                        f'org.apache.kafka.common.security.plain.PlainLoginModule required username=\"{kafka_config[\"username\"]}\" '\n",
        "                        f'password=\"{kafka_config[\"password\"]}\";') \\\n",
        "                .save()\n",
        "            print(f\"✅ Batch {batch_id} записано у Kafka\")\n",
        "\n",
        "            # Запис у MySQL\n",
        "            batch_df.write.format(\"jdbc\").options(\n",
        "                url=MYSQL_URL,\n",
        "                driver=\"com.mysql.cj.jdbc.Driver\",\n",
        "                dbtable=\"olympic_dataset.aggregated_results\",\n",
        "                user=MYSQL_PROPERTIES[\"user\"],\n",
        "                password=MYSQL_PROPERTIES[\"password\"]\n",
        "            ).mode(\"append\").save()\n",
        "            print(f\"✅ Batch {batch_id} записано у MySQL\")\n",
        "\n",
        "        except Exception as e:\n",
        "            print(f\"❌ Помилка обробки batch {batch_id}: {e}\")\n",
        "            import traceback\n",
        "            traceback.print_exc()\n",
        "    else:\n",
        "        print(f\"⚠️ Batch {batch_id} порожній - можливо, немає нових даних у топіку\")"
      ],
      "metadata": {
        "id": "7br7nhUKxcot"
      },
      "execution_count": 19,
      "outputs": []
    },
    {
      "cell_type": "code",
      "source": [
        "# 6️⃣ Старт стріму\n",
        "print(\"🚀 Запуск потокової обробки...\")\n",
        "query = aggregated_stream_df.writeStream \\\n",
        "    .foreachBatch(foreach_batch_function) \\\n",
        "    .outputMode(\"update\") \\\n",
        "    .option(\"checkpointLocation\", \"checkpoint/athlete_pipeline\") \\\n",
        "    .start()"
      ],
      "metadata": {
        "colab": {
          "base_uri": "https://localhost:8080/"
        },
        "id": "Kul7ufcuxpSG",
        "outputId": "2944ac1d-550b-4bec-f005-7c28d053d27a"
      },
      "execution_count": 20,
      "outputs": [
        {
          "output_type": "stream",
          "name": "stdout",
          "text": [
            "🚀 Запуск потокової обробки...\n"
          ]
        }
      ]
    },
    {
      "cell_type": "code",
      "source": [
        "print(\"✅ Потокова обробка запущена! Натисніть Ctrl+C для зупинки.\")\n",
        "query.awaitTermination()"
      ],
      "metadata": {
        "colab": {
          "base_uri": "https://localhost:8080/",
          "height": 772
        },
        "id": "AHjWdSjFxuit",
        "outputId": "ad696fcb-820f-430c-ee30-2e0331978bba"
      },
      "execution_count": 21,
      "outputs": [
        {
          "output_type": "stream",
          "name": "stdout",
          "text": [
            "✅ Потокова обробка запущена! Натисніть Ctrl+C для зупинки.\n",
            "📝 Обробка batch 3...\n",
            "📊 Batch 3 містить 58 записів\n",
            "🔍 Приклад даних з batch 3:\n",
            "✅ Batch 3 записано у Kafka\n",
            "✅ Batch 3 записано у MySQL\n",
            "📝 Обробка batch 4...\n",
            "📊 Batch 4 містить 88 записів\n",
            "🔍 Приклад даних з batch 4:\n",
            "✅ Batch 4 записано у Kafka\n",
            "✅ Batch 4 записано у MySQL\n",
            "📝 Обробка batch 5...\n",
            "📊 Batch 5 містить 61 записів\n",
            "🔍 Приклад даних з batch 5:\n",
            "✅ Batch 5 записано у Kafka\n"
          ]
        },
        {
          "output_type": "stream",
          "name": "stderr",
          "text": [
            "ERROR:root:KeyboardInterrupt while sending command.\n",
            "Traceback (most recent call last):\n",
            "  File \"/usr/local/lib/python3.11/dist-packages/py4j/java_gateway.py\", line 1038, in send_command\n",
            "    response = connection.send_command(command)\n",
            "               ^^^^^^^^^^^^^^^^^^^^^^^^^^^^^^^^\n",
            "  File \"/usr/local/lib/python3.11/dist-packages/py4j/clientserver.py\", line 511, in send_command\n",
            "    answer = smart_decode(self.stream.readline()[:-1])\n",
            "                          ^^^^^^^^^^^^^^^^^^^^^^\n",
            "  File \"/usr/lib/python3.11/socket.py\", line 718, in readinto\n",
            "    return self._sock.recv_into(b)\n",
            "           ^^^^^^^^^^^^^^^^^^^^^^^\n",
            "KeyboardInterrupt\n"
          ]
        },
        {
          "output_type": "error",
          "ename": "KeyboardInterrupt",
          "evalue": "",
          "traceback": [
            "\u001b[0;31m---------------------------------------------------------------------------\u001b[0m",
            "\u001b[0;31mKeyboardInterrupt\u001b[0m                         Traceback (most recent call last)",
            "\u001b[0;32m<ipython-input-21-2481315551>\u001b[0m in \u001b[0;36m<cell line: 0>\u001b[0;34m()\u001b[0m\n\u001b[1;32m      1\u001b[0m \u001b[0mprint\u001b[0m\u001b[0;34m(\u001b[0m\u001b[0;34m\"✅ Потокова обробка запущена! Натисніть Ctrl+C для зупинки.\"\u001b[0m\u001b[0;34m)\u001b[0m\u001b[0;34m\u001b[0m\u001b[0;34m\u001b[0m\u001b[0m\n\u001b[0;32m----> 2\u001b[0;31m \u001b[0mquery\u001b[0m\u001b[0;34m.\u001b[0m\u001b[0mawaitTermination\u001b[0m\u001b[0;34m(\u001b[0m\u001b[0;34m)\u001b[0m\u001b[0;34m\u001b[0m\u001b[0;34m\u001b[0m\u001b[0m\n\u001b[0m",
            "\u001b[0;32m/usr/local/lib/python3.11/dist-packages/pyspark/sql/streaming/query.py\u001b[0m in \u001b[0;36mawaitTermination\u001b[0;34m(self, timeout)\u001b[0m\n\u001b[1;32m    219\u001b[0m             \u001b[0;32mreturn\u001b[0m \u001b[0mself\u001b[0m\u001b[0;34m.\u001b[0m\u001b[0m_jsq\u001b[0m\u001b[0;34m.\u001b[0m\u001b[0mawaitTermination\u001b[0m\u001b[0;34m(\u001b[0m\u001b[0mint\u001b[0m\u001b[0;34m(\u001b[0m\u001b[0mtimeout\u001b[0m \u001b[0;34m*\u001b[0m \u001b[0;36m1000\u001b[0m\u001b[0;34m)\u001b[0m\u001b[0;34m)\u001b[0m\u001b[0;34m\u001b[0m\u001b[0;34m\u001b[0m\u001b[0m\n\u001b[1;32m    220\u001b[0m         \u001b[0;32melse\u001b[0m\u001b[0;34m:\u001b[0m\u001b[0;34m\u001b[0m\u001b[0;34m\u001b[0m\u001b[0m\n\u001b[0;32m--> 221\u001b[0;31m             \u001b[0;32mreturn\u001b[0m \u001b[0mself\u001b[0m\u001b[0;34m.\u001b[0m\u001b[0m_jsq\u001b[0m\u001b[0;34m.\u001b[0m\u001b[0mawaitTermination\u001b[0m\u001b[0;34m(\u001b[0m\u001b[0;34m)\u001b[0m\u001b[0;34m\u001b[0m\u001b[0;34m\u001b[0m\u001b[0m\n\u001b[0m\u001b[1;32m    222\u001b[0m \u001b[0;34m\u001b[0m\u001b[0m\n\u001b[1;32m    223\u001b[0m     \u001b[0;34m@\u001b[0m\u001b[0mproperty\u001b[0m\u001b[0;34m\u001b[0m\u001b[0;34m\u001b[0m\u001b[0m\n",
            "\u001b[0;32m/usr/local/lib/python3.11/dist-packages/py4j/java_gateway.py\u001b[0m in \u001b[0;36m__call__\u001b[0;34m(self, *args)\u001b[0m\n\u001b[1;32m   1319\u001b[0m             \u001b[0mproto\u001b[0m\u001b[0;34m.\u001b[0m\u001b[0mEND_COMMAND_PART\u001b[0m\u001b[0;34m\u001b[0m\u001b[0;34m\u001b[0m\u001b[0m\n\u001b[1;32m   1320\u001b[0m \u001b[0;34m\u001b[0m\u001b[0m\n\u001b[0;32m-> 1321\u001b[0;31m         \u001b[0manswer\u001b[0m \u001b[0;34m=\u001b[0m \u001b[0mself\u001b[0m\u001b[0;34m.\u001b[0m\u001b[0mgateway_client\u001b[0m\u001b[0;34m.\u001b[0m\u001b[0msend_command\u001b[0m\u001b[0;34m(\u001b[0m\u001b[0mcommand\u001b[0m\u001b[0;34m)\u001b[0m\u001b[0;34m\u001b[0m\u001b[0;34m\u001b[0m\u001b[0m\n\u001b[0m\u001b[1;32m   1322\u001b[0m         return_value = get_return_value(\n\u001b[1;32m   1323\u001b[0m             answer, self.gateway_client, self.target_id, self.name)\n",
            "\u001b[0;32m/usr/local/lib/python3.11/dist-packages/py4j/java_gateway.py\u001b[0m in \u001b[0;36msend_command\u001b[0;34m(self, command, retry, binary)\u001b[0m\n\u001b[1;32m   1036\u001b[0m         \u001b[0mconnection\u001b[0m \u001b[0;34m=\u001b[0m \u001b[0mself\u001b[0m\u001b[0;34m.\u001b[0m\u001b[0m_get_connection\u001b[0m\u001b[0;34m(\u001b[0m\u001b[0;34m)\u001b[0m\u001b[0;34m\u001b[0m\u001b[0;34m\u001b[0m\u001b[0m\n\u001b[1;32m   1037\u001b[0m         \u001b[0;32mtry\u001b[0m\u001b[0;34m:\u001b[0m\u001b[0;34m\u001b[0m\u001b[0;34m\u001b[0m\u001b[0m\n\u001b[0;32m-> 1038\u001b[0;31m             \u001b[0mresponse\u001b[0m \u001b[0;34m=\u001b[0m \u001b[0mconnection\u001b[0m\u001b[0;34m.\u001b[0m\u001b[0msend_command\u001b[0m\u001b[0;34m(\u001b[0m\u001b[0mcommand\u001b[0m\u001b[0;34m)\u001b[0m\u001b[0;34m\u001b[0m\u001b[0;34m\u001b[0m\u001b[0m\n\u001b[0m\u001b[1;32m   1039\u001b[0m             \u001b[0;32mif\u001b[0m \u001b[0mbinary\u001b[0m\u001b[0;34m:\u001b[0m\u001b[0;34m\u001b[0m\u001b[0;34m\u001b[0m\u001b[0m\n\u001b[1;32m   1040\u001b[0m                 \u001b[0;32mreturn\u001b[0m \u001b[0mresponse\u001b[0m\u001b[0;34m,\u001b[0m \u001b[0mself\u001b[0m\u001b[0;34m.\u001b[0m\u001b[0m_create_connection_guard\u001b[0m\u001b[0;34m(\u001b[0m\u001b[0mconnection\u001b[0m\u001b[0;34m)\u001b[0m\u001b[0;34m\u001b[0m\u001b[0;34m\u001b[0m\u001b[0m\n",
            "\u001b[0;32m/usr/local/lib/python3.11/dist-packages/py4j/clientserver.py\u001b[0m in \u001b[0;36msend_command\u001b[0;34m(self, command)\u001b[0m\n\u001b[1;32m    509\u001b[0m         \u001b[0;32mtry\u001b[0m\u001b[0;34m:\u001b[0m\u001b[0;34m\u001b[0m\u001b[0;34m\u001b[0m\u001b[0m\n\u001b[1;32m    510\u001b[0m             \u001b[0;32mwhile\u001b[0m \u001b[0;32mTrue\u001b[0m\u001b[0;34m:\u001b[0m\u001b[0;34m\u001b[0m\u001b[0;34m\u001b[0m\u001b[0m\n\u001b[0;32m--> 511\u001b[0;31m                 \u001b[0manswer\u001b[0m \u001b[0;34m=\u001b[0m \u001b[0msmart_decode\u001b[0m\u001b[0;34m(\u001b[0m\u001b[0mself\u001b[0m\u001b[0;34m.\u001b[0m\u001b[0mstream\u001b[0m\u001b[0;34m.\u001b[0m\u001b[0mreadline\u001b[0m\u001b[0;34m(\u001b[0m\u001b[0;34m)\u001b[0m\u001b[0;34m[\u001b[0m\u001b[0;34m:\u001b[0m\u001b[0;34m-\u001b[0m\u001b[0;36m1\u001b[0m\u001b[0;34m]\u001b[0m\u001b[0;34m)\u001b[0m\u001b[0;34m\u001b[0m\u001b[0;34m\u001b[0m\u001b[0m\n\u001b[0m\u001b[1;32m    512\u001b[0m                 \u001b[0mlogger\u001b[0m\u001b[0;34m.\u001b[0m\u001b[0mdebug\u001b[0m\u001b[0;34m(\u001b[0m\u001b[0;34m\"Answer received: {0}\"\u001b[0m\u001b[0;34m.\u001b[0m\u001b[0mformat\u001b[0m\u001b[0;34m(\u001b[0m\u001b[0manswer\u001b[0m\u001b[0;34m)\u001b[0m\u001b[0;34m)\u001b[0m\u001b[0;34m\u001b[0m\u001b[0;34m\u001b[0m\u001b[0m\n\u001b[1;32m    513\u001b[0m                 \u001b[0;31m# Happens when a the other end is dead. There might be an empty\u001b[0m\u001b[0;34m\u001b[0m\u001b[0;34m\u001b[0m\u001b[0m\n",
            "\u001b[0;32m/usr/lib/python3.11/socket.py\u001b[0m in \u001b[0;36mreadinto\u001b[0;34m(self, b)\u001b[0m\n\u001b[1;32m    716\u001b[0m         \u001b[0;32mwhile\u001b[0m \u001b[0;32mTrue\u001b[0m\u001b[0;34m:\u001b[0m\u001b[0;34m\u001b[0m\u001b[0;34m\u001b[0m\u001b[0m\n\u001b[1;32m    717\u001b[0m             \u001b[0;32mtry\u001b[0m\u001b[0;34m:\u001b[0m\u001b[0;34m\u001b[0m\u001b[0;34m\u001b[0m\u001b[0m\n\u001b[0;32m--> 718\u001b[0;31m                 \u001b[0;32mreturn\u001b[0m \u001b[0mself\u001b[0m\u001b[0;34m.\u001b[0m\u001b[0m_sock\u001b[0m\u001b[0;34m.\u001b[0m\u001b[0mrecv_into\u001b[0m\u001b[0;34m(\u001b[0m\u001b[0mb\u001b[0m\u001b[0;34m)\u001b[0m\u001b[0;34m\u001b[0m\u001b[0;34m\u001b[0m\u001b[0m\n\u001b[0m\u001b[1;32m    719\u001b[0m             \u001b[0;32mexcept\u001b[0m \u001b[0mtimeout\u001b[0m\u001b[0;34m:\u001b[0m\u001b[0;34m\u001b[0m\u001b[0;34m\u001b[0m\u001b[0m\n\u001b[1;32m    720\u001b[0m                 \u001b[0mself\u001b[0m\u001b[0;34m.\u001b[0m\u001b[0m_timeout_occurred\u001b[0m \u001b[0;34m=\u001b[0m \u001b[0;32mTrue\u001b[0m\u001b[0;34m\u001b[0m\u001b[0;34m\u001b[0m\u001b[0m\n",
            "\u001b[0;31mKeyboardInterrupt\u001b[0m: "
          ]
        }
      ]
    }
  ]
}